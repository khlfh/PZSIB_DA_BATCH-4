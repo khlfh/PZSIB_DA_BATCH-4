{
  "cells": [
    {
      "cell_type": "markdown",
      "metadata": {
        "id": "f6LjKU50-tD8"
      },
      "source": [
        "##Topic 3 - Python Structure & Data Type Assignment\n"
      ]
    },
    {
      "cell_type": "markdown",
      "metadata": {
        "id": "MPuR878HZEbx"
      },
      "source": [
        "# Data Type Declaration"
      ]
    },
    {
      "cell_type": "markdown",
      "metadata": {
        "id": "GyS5I54D-3K9"
      },
      "source": [
        "1. > Create an empty variable (Points : 5)"
      ]
    },
    {
      "cell_type": "code",
      "execution_count": null,
      "metadata": {
        "id": "jehesBY-_aKL"
      },
      "outputs": [],
      "source": [
        "flower = None #None untuk membuat empty variable"
      ]
    },
    {
      "cell_type": "markdown",
      "metadata": {
        "id": "6zCz3qZ8_bu2"
      },
      "source": [
        "2. > Create a variable containing your name (Points : 5)"
      ]
    },
    {
      "cell_type": "code",
      "execution_count": null,
      "metadata": {
        "colab": {
          "base_uri": "https://localhost:8080/"
        },
        "id": "1wT8jnI6_f-U",
        "outputId": "d0819e5e-1ec9-400a-9ef4-12ceccec5024"
      },
      "outputs": [
        {
          "name": "stdout",
          "output_type": "stream",
          "text": [
            "Nur\n"
          ]
        }
      ],
      "source": [
        "name = 'Nur'   #ketik nama varibel kemudian sama dengan, untuk nama adalah type string maka gunakan tanda petik atas untuk membuat variabel\n",
        "print(name)    #menampilkan variabel name"
      ]
    },
    {
      "cell_type": "markdown",
      "metadata": {
        "id": "ApatE8m__2Ud"
      },
      "source": [
        "3. > Create a list of 5 items you can find in the classroom (Points : 5)"
      ]
    },
    {
      "cell_type": "code",
      "execution_count": null,
      "metadata": {
        "colab": {
          "base_uri": "https://localhost:8080/"
        },
        "id": "-Q0Ynqx1_6hF",
        "outputId": "5e6ebeeb-6bd1-47a8-e51e-1cdbc82c11e0"
      },
      "outputs": [
        {
          "data": {
            "text/plain": [
              "['book', 'pencil', 'backpack', 'eraser', 'bolpoin']"
            ]
          },
          "execution_count": 2,
          "metadata": {},
          "output_type": "execute_result"
        }
      ],
      "source": [
        "classrooms = ['book', 'pencil' , 'backpack', 'eraser', 'bolpoin'] #list dengan item string gunakan petik atas dan koma tiap menambahkan itemnya serta dikurung menggunakan kurung siku\n",
        "classrooms                                                        #menampilkan list yang telah dibuat"
      ]
    },
    {
      "cell_type": "markdown",
      "metadata": {
        "id": "6FwMmy_9AS5N"
      },
      "source": [
        "4. > Create a dictionary containing 2 keys and value (Points : 5)"
      ]
    },
    {
      "cell_type": "code",
      "execution_count": null,
      "metadata": {
        "colab": {
          "base_uri": "https://localhost:8080/"
        },
        "id": "xLc2AlhtASOm",
        "outputId": "498fa23b-8726-4778-dcc0-73b1fd3fee24"
      },
      "outputs": [
        {
          "data": {
            "text/plain": [
              "{'genre': 'romance', 'bahasa': 'Indonesia'}"
            ]
          },
          "execution_count": 1,
          "metadata": {},
          "output_type": "execute_result"
        }
      ],
      "source": [
        "film_dict = {                                  #membuat dict berisi 2 keys dan value\n",
        "            'genre': 'romance',\n",
        "            'bahasa':'Indonesia'\n",
        "            }\n",
        "film_dict                                      #menampilkan dict yang telah dibuat"
      ]
    },
    {
      "cell_type": "markdown",
      "metadata": {
        "id": "6AqPfAS7a1Oi"
      },
      "source": [
        "# Basic Data Operation"
      ]
    },
    {
      "cell_type": "markdown",
      "metadata": {
        "id": "-ZZF1cXlbqkJ"
      },
      "source": [
        "You sold 20 pieces of electronics at the price of 12000. The customer gets a total discount of 10%.\n",
        "\n",
        "Below are those variables:\n",
        "\n",
        "1.   price=12000\n",
        "2.   quantity_sold=20\n",
        "3.   discount=10%\n",
        "\n",
        "\n",
        "Using Python code, write the code the find the total money that the customer to pay. (Points : 15)"
      ]
    },
    {
      "cell_type": "code",
      "execution_count": null,
      "metadata": {
        "colab": {
          "base_uri": "https://localhost:8080/"
        },
        "id": "90T0A2HvbcCK",
        "outputId": "46f57fe0-0dab-4fec-db13-accb569c22d0"
      },
      "outputs": [
        {
          "data": {
            "text/plain": [
              "216000.0"
            ]
          },
          "execution_count": 4,
          "metadata": {},
          "output_type": "execute_result"
        }
      ],
      "source": [
        "#mendefinisikan variabel yang diperlukan\n",
        "price         =12000\n",
        "quantity_sold =20\n",
        "disc          =0.1\n",
        "#menghitung total uangnya adalah harga dikali( menggunakan tanda *) banyaknya barang dikurangi dengan harga total barang dikali diskon\n",
        "total         =price*quantity_sold-(price*quantity_sold*disc)  \n",
        "#print total dengan memanggil variabelnya\n",
        "total"
      ]
    },
    {
      "cell_type": "markdown",
      "metadata": {
        "id": "G-HHsg4la6mJ"
      },
      "source": [
        "# List Data Operation"
      ]
    },
    {
      "cell_type": "markdown",
      "metadata": {
        "id": "NdoSjVZ4Zbqg"
      },
      "source": [
        "5. > Follow the instructions in the code blocks\n",
        "\n",
        "\n",
        "\n"
      ]
    },
    {
      "cell_type": "code",
      "execution_count": null,
      "metadata": {
        "colab": {
          "base_uri": "https://localhost:8080/"
        },
        "id": "xsFxlZGLaQ7y",
        "outputId": "5092d8a3-716f-4eda-bb88-2dd67deabda4"
      },
      "outputs": [
        {
          "data": {
            "text/plain": [
              "['China', 'Finlandia', 'Germany', 'India', 'Indonesia', 'Japan', 'Kanada']"
            ]
          },
          "execution_count": 5,
          "metadata": {},
          "output_type": "execute_result"
        }
      ],
      "source": [
        "# Create list of countries in the world (total 7 countries) (Points : 5)\n",
        "\n",
        "countries=['China','Finlandia', 'Germany','India','Indonesia','Japan','Kanada'] #membuat list dengan item 7 kota di dunia\n",
        "countries                                                                       #menampilan list yang telah dibuat"
      ]
    },
    {
      "cell_type": "code",
      "execution_count": null,
      "metadata": {
        "colab": {
          "base_uri": "https://localhost:8080/"
        },
        "id": "6Se125DabJ6R",
        "outputId": "866427a3-c7e4-4b5f-8d66-612588321cba"
      },
      "outputs": [
        {
          "data": {
            "text/plain": [
              "['China', 'Finlandia', 'Germany', 'India']"
            ]
          },
          "execution_count": 6,
          "metadata": {},
          "output_type": "execute_result"
        }
      ],
      "source": [
        "# Get 4 countries from the first index of the list (Points : 5)\n",
        "\n",
        "countries[0:4]   #gunakan index 0 sampai 4 akan diambil kota dengan index 0,1,2,3 dan kota tersebut adalah 4 kota pertama dalam list"
      ]
    },
    {
      "cell_type": "code",
      "execution_count": null,
      "metadata": {
        "colab": {
          "base_uri": "https://localhost:8080/"
        },
        "id": "FSU5QfExbKAh",
        "outputId": "0afbbf19-d795-4695-f0d7-aa73d16e3e68"
      },
      "outputs": [
        {
          "data": {
            "text/plain": [
              "['China',\n",
              " 'Finlandia',\n",
              " 'Germany',\n",
              " 'India',\n",
              " 'Indonesia',\n",
              " 'Japan',\n",
              " 'Kanada',\n",
              " 'North Korea']"
            ]
          },
          "execution_count": 5,
          "metadata": {},
          "output_type": "execute_result"
        }
      ],
      "source": [
        "# Append new country to the list (Points : 5)\n",
        "\n",
        "countries.append('North Korea')  #gunakan append untuk menambah item pada list\n",
        "countries                        #menampilkan list countries setelah ditambahkan item"
      ]
    },
    {
      "cell_type": "code",
      "execution_count": null,
      "metadata": {
        "colab": {
          "base_uri": "https://localhost:8080/"
        },
        "id": "DlvXbKlnbKGR",
        "outputId": "b87a7cbc-34d4-4568-9859-dd7ace76e8cc"
      },
      "outputs": [
        {
          "data": {
            "text/plain": [
              "['China', 'Finlandia', 'India', 'Indonesia', 'Japan', 'Kanada', 'North Korea']"
            ]
          },
          "execution_count": 13,
          "metadata": {},
          "output_type": "execute_result"
        }
      ],
      "source": [
        "# Drop one country from the list (Points : 5)\n",
        "\n",
        "del countries [2]   #untuk drop item pada list dapat menggunakan del dengan menuliskan indexnya\n",
        "countries           #menampilkan list setelah drop item dengan index 2 yakni Germany"
      ]
    },
    {
      "cell_type": "code",
      "execution_count": null,
      "metadata": {
        "colab": {
          "base_uri": "https://localhost:8080/",
          "height": 35
        },
        "id": "F1NJ6JCQbKJ7",
        "outputId": "7d22023a-4244-4afd-9ac0-99910c0bd8b0"
      },
      "outputs": [
        {
          "data": {
            "application/vnd.google.colaboratory.intrinsic+json": {
              "type": "string"
            },
            "text/plain": [
              "'North Korea'"
            ]
          },
          "execution_count": 15,
          "metadata": {},
          "output_type": "execute_result"
        }
      ],
      "source": [
        "# Get country in the last index (Points : 5)\n",
        "\n",
        "countries [-1]  #item terakhir dalam list adalah item dengan index -1, panggil item itu dengan nama list kurung siku index -1"
      ]
    },
    {
      "cell_type": "markdown",
      "metadata": {
        "id": "Kfkq-SmIdJR6"
      },
      "source": [
        "# Dictionary Data Operation"
      ]
    },
    {
      "cell_type": "markdown",
      "metadata": {
        "id": "WyJ8CJzdeMiS"
      },
      "source": [
        "6. >  Follow the instructions below\n",
        "\n",
        "\n",
        "\n"
      ]
    },
    {
      "cell_type": "code",
      "execution_count": 1,
      "metadata": {
        "id": "fVHYIKLwdMfq"
      },
      "outputs": [],
      "source": [
        "# Given the dictionary below\n",
        "\n",
        "customer={\n",
        "            \"name\":['Dio','Eka','Wayu','Riki'],\n",
        "            \"age\":[20,19,24,39],\n",
        "            \"gender\":[1,0,0,1],\n",
        "            \"membership\":['Platinum','Gold','Silver','Silver']\n",
        "         }"
      ]
    },
    {
      "cell_type": "code",
      "execution_count": null,
      "metadata": {
        "colab": {
          "base_uri": "https://localhost:8080/"
        },
        "id": "LpRVtz4_eJK5",
        "outputId": "dde8084e-74c2-461c-a441-a00a2ac0a5a0"
      },
      "outputs": [
        {
          "data": {
            "text/plain": [
              "dict_keys(['name', 'age', 'gender', 'membership'])"
            ]
          },
          "execution_count": 9,
          "metadata": {},
          "output_type": "execute_result"
        }
      ],
      "source": [
        "# Print all keys in customer (Points : 5)\n",
        "\n",
        "customer.keys()  #dapat menggunakan (namadict).keys() untuk print semua key dalam dict"
      ]
    },
    {
      "cell_type": "code",
      "execution_count": null,
      "metadata": {
        "colab": {
          "base_uri": "https://localhost:8080/"
        },
        "id": "QiEMM94FeYrz",
        "outputId": "ecf3d3c9-db20-4f1f-992c-cf2c97be1100"
      },
      "outputs": [
        {
          "data": {
            "text/plain": [
              "['Dio', 'Eka', 'Wayu', 'Riki']"
            ]
          },
          "execution_count": 10,
          "metadata": {},
          "output_type": "execute_result"
        }
      ],
      "source": [
        "# Print all customer names (Points : 5)\n",
        "\n",
        "customer['name']  #gunakan nama dict kemudian nama key dengan tanda petik atas dan diapit kurung siku untuk print semua value dalam key"
      ]
    },
    {
      "cell_type": "code",
      "execution_count": null,
      "metadata": {
        "colab": {
          "base_uri": "https://localhost:8080/",
          "height": 35
        },
        "id": "P2SeErUGgQ-D",
        "outputId": "a5c29b1d-5ffb-44a5-b23b-462d8290397d"
      },
      "outputs": [
        {
          "data": {
            "application/vnd.google.colaboratory.intrinsic+json": {
              "type": "string"
            },
            "text/plain": [
              "'Dio'"
            ]
          },
          "execution_count": 11,
          "metadata": {},
          "output_type": "execute_result"
        }
      ],
      "source": [
        "# Print the first customer name (Points : 5)\n",
        "customer['name'][0]  #tulis nama dict dan key kemudian nilai index 0 untuk print value pertama dalam key"
      ]
    },
    {
      "cell_type": "code",
      "execution_count": null,
      "metadata": {
        "colab": {
          "base_uri": "https://localhost:8080/"
        },
        "id": "c3PlmHxueiPy",
        "outputId": "ecba3b0f-8059-48a2-c7db-e59de64cb527"
      },
      "outputs": [
        {
          "data": {
            "text/plain": [
              "{'age': [20, 19, 24, 39],\n",
              " 'gender': [1, 0, 0, 1],\n",
              " 'membership': ['Platinum', 'Gold', 'Silver', 'Silver']}"
            ]
          },
          "execution_count": 4,
          "metadata": {},
          "output_type": "execute_result"
        }
      ],
      "source": [
        "# Drop \"age\" key from the dictionary (Points : 5)\n",
        "\n",
        "del (customer['name']) #gunakan del dengan menyebutkan key\n",
        "customer               #mena mpilkan dict setelah drop key \"age\""
      ]
    },
    {
      "cell_type": "code",
      "execution_count": 2,
      "metadata": {
        "colab": {
          "base_uri": "https://localhost:8080/"
        },
        "id": "FgXDh9mIea9x",
        "outputId": "a9d46efe-10b7-47fb-f0d4-3a87721127b5"
      },
      "outputs": [
        {
          "output_type": "execute_result",
          "data": {
            "text/plain": [
              "{'name': ['Dio', 'Eka', 'Wayu', 'Riki'],\n",
              " 'age': [20, 19, 24, 39],\n",
              " 'gender': ['Female', 'Male', 'Male', 'Female'],\n",
              " 'membership': ['Platinum', 'Gold', 'Silver', 'Silver']}"
            ]
          },
          "metadata": {},
          "execution_count": 2
        }
      ],
      "source": [
        "# Replace customer gender list value (Points : 20)\n",
        "# gender 1 => Male\n",
        "# gender 0 => Female \n",
        "\n",
        "#for gender, value in customer.items(): #membuat fungsi untuk value dalam key gender pada dict customer\n",
        "      #for x in value :                 #membuat fungsi perulangan untuk membaca value dari key gender\n",
        "        #if x==1:                       #membuat fungsi replace jika value dalam gender bernilai 1 akan diubah menjadi Male \n",
        "         #gender='Male'\n",
        "        #elif x==0:                     #fungsi else if sebagai replace untuk nilai value selain 1 dalam gender, yakni bernilai 0 akan diubah menjadi Female\n",
        "         #gender='Female'}\n",
        "#code di atas masih salah, belum berhasil mengubah 0 dan 1 menjadi male dan female\n",
        "#yang benar\n",
        "\n",
        "gender_10={ 0:'Male' , 1:'Female'}                              #buat dict yang berisi key 0 dengan value male dan key 1 dengan value female\n",
        "customer['gender'] = [gender_10[i] for i in customer['gender']] #replace value pada key gender di dict customer menggunakan dict gender_10 dengan loop \n",
        "customer                                                        #menampilkan dict customer setelah diberi perubahan value"
      ]
    }
  ],
  "metadata": {
    "colab": {
      "provenance": []
    },
    "kernelspec": {
      "display_name": "Python 3",
      "name": "python3"
    },
    "language_info": {
      "name": "python"
    }
  },
  "nbformat": 4,
  "nbformat_minor": 0
}